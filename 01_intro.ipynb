{
 "cells": [
  {
   "cell_type": "code",
   "execution_count": 1,
   "id": "792fecbc-f32c-4237-be73-b1f27e7aaa7c",
   "metadata": {},
   "outputs": [],
   "source": [
    "import json"
   ]
  },
  {
   "cell_type": "code",
   "execution_count": 5,
   "id": "2ca85f62-5ab9-4388-8d09-02f3aa48c9b4",
   "metadata": {},
   "outputs": [],
   "source": [
    "# Loading the data \n",
    "def load_data(filename):\n",
    "    with open(filename,\"r\") as f:\n",
    "        data = json.load(f)\n",
    "    return data"
   ]
  },
  {
   "cell_type": "code",
   "execution_count": 8,
   "id": "118d55c9-8335-4053-8eed-54a29865bcfa",
   "metadata": {},
   "outputs": [],
   "source": [
    "data = load_data(\"data.json\")"
   ]
  },
  {
   "cell_type": "code",
   "execution_count": 9,
   "id": "88832fd2-dcf8-4578-b17f-9525cf636a22",
   "metadata": {},
   "outputs": [
    {
     "data": {
      "text/plain": [
       "{'users': [{'id': 1, 'name': 'Amit', 'friends': [2, 3], 'liked_pages': [101]},\n",
       "  {'id': 2, 'name': 'Priya', 'friends': [1, 4], 'liked_pages': [102]},\n",
       "  {'id': 3, 'name': '', 'friends': [1], 'liked_pages': [101, 103]},\n",
       "  {'id': 4, 'name': 'Sara', 'friends': [2, 2], 'liked_pages': [104]},\n",
       "  {'id': 5, 'name': 'Amit', 'friends': [], 'liked_pages': []}],\n",
       " 'pages': [{'id': 101, 'name': 'Python Developers'},\n",
       "  {'id': 102, 'name': 'Data Science Enthusiasts'},\n",
       "  {'id': 103, 'name': 'AI & ML Community'},\n",
       "  {'id': 104, 'name': 'Web Dev Hub'},\n",
       "  {'id': 104, 'name': 'Web Development'}]}"
      ]
     },
     "execution_count": 9,
     "metadata": {},
     "output_type": "execute_result"
    }
   ],
   "source": [
    "data"
   ]
  },
  {
   "cell_type": "code",
   "execution_count": 3,
   "id": "097adc70-e9d1-470d-a257-7f009457475a",
   "metadata": {},
   "outputs": [],
   "source": [
    "# Displaying the data\n",
    "def display_users(data):\n",
    "    print(\"The data of the users with their name and id along the liked page is entracted below.\")\n",
    "    for user in data['users']:\n",
    "        print(f\"{user['name']} is friend with {user['friends']} and the id is {user['id']} and the liked pages is {user['liked_pages']}. \\n\")\n",
    "    print(\"The data of the pages with the id and their is listed below.\")\n",
    "    for page in data['pages']:\n",
    "        print(f\"The pages id is {page['id']} and their field is {page['name']}.\\n\")\n"
   ]
  },
  {
   "cell_type": "code",
   "execution_count": 6,
   "id": "3c6cc88e-92cd-4d74-b87f-edf81f876776",
   "metadata": {},
   "outputs": [
    {
     "name": "stdout",
     "output_type": "stream",
     "text": [
      "The data of the users with their name and id along the liked page is entracted below.\n",
      "Amit is friend with [2, 3] and the id is 1 and the liked pages is [101]. \n",
      "\n",
      "Priya is friend with [1, 4] and the id is 2 and the liked pages is [102]. \n",
      "\n",
      " is friend with [1] and the id is 3 and the liked pages is [101, 103]. \n",
      "\n",
      "Sara is friend with [2, 2] and the id is 4 and the liked pages is [104]. \n",
      "\n",
      "Amit is friend with [] and the id is 5 and the liked pages is []. \n",
      "\n",
      "The data of the pages with the id and their is listed below.\n",
      "The pages id is 101 and their field is Python Developers.\n",
      "\n",
      "The pages id is 102 and their field is Data Science Enthusiasts.\n",
      "\n",
      "The pages id is 103 and their field is AI & ML Community.\n",
      "\n",
      "The pages id is 104 and their field is Web Dev Hub.\n",
      "\n",
      "The pages id is 104 and their field is Web Development.\n",
      "\n"
     ]
    }
   ],
   "source": [
    "display_users(data)"
   ]
  }
 ],
 "metadata": {
  "kernelspec": {
   "display_name": "Python 3",
   "language": "python",
   "name": "python3"
  },
  "language_info": {
   "codemirror_mode": {
    "name": "ipython",
    "version": 3
   },
   "file_extension": ".py",
   "mimetype": "text/x-python",
   "name": "python",
   "nbconvert_exporter": "python",
   "pygments_lexer": "ipython3",
   "version": "3.6.13"
  }
 },
 "nbformat": 4,
 "nbformat_minor": 5
}
