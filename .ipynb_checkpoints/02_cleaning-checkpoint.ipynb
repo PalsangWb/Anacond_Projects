{
 "cells": [
  {
   "cell_type": "code",
   "execution_count": 4,
   "id": "58855bf1-92f5-41e7-b500-961ca8a01205",
   "metadata": {},
   "outputs": [],
   "source": [
    "import json"
   ]
  },
  {
   "cell_type": "code",
   "execution_count": 5,
   "id": "dba4f46d-a345-4f83-8099-711afdb6fae4",
   "metadata": {},
   "outputs": [],
   "source": [
    "def clean_data(data):\n",
    "    #Remove the data which does not have the user name.\n",
    "    data[\"users\"] = [user for user in data[\"users\"] if user[\"name\"].strip()]\n",
    "    \n",
    "    #Remove  duplicate friends.\n",
    "    for user in data[\"users\"]:\n",
    "        user[\"friends\"] = list(set(user[\"friends\"]))\n",
    "        \n",
    "    #Remove inactive user \n",
    "    data[\"users\"] = [user for user in data[\"users\"] if user[\"friends\"] or user[\"liked_pages\"]]\n",
    "    \n",
    "    #Remove duplicate pages\n",
    "    unique_pages = {}\n",
    "    for page in data['pages']:\n",
    "        unique_pages[page['id']] = page\n",
    "    data[\"pages\"] = list(unique_pages.values())\n",
    "    return data"
   ]
  },
  {
   "cell_type": "code",
   "execution_count": 6,
   "id": "323ea397-a408-4fff-a25b-b7b2b68aa169",
   "metadata": {},
   "outputs": [
    {
     "name": "stdout",
     "output_type": "stream",
     "text": [
      "Data has been successfully cleaned.\n"
     ]
    }
   ],
   "source": [
    "#Load the data\n",
    "data = json.load(open(\"data2.json\"))\n",
    "data = clean_data(data)\n",
    "json.dump(data, open(\"cleaned_data2.json\", \"w\"), indent=4)\n",
    "print(\"Data has been successfully cleaned.\")"
   ]
  }
 ],
 "metadata": {
  "kernelspec": {
   "display_name": "Python 3",
   "language": "python",
   "name": "python3"
  },
  "language_info": {
   "codemirror_mode": {
    "name": "ipython",
    "version": 3
   },
   "file_extension": ".py",
   "mimetype": "text/x-python",
   "name": "python",
   "nbconvert_exporter": "python",
   "pygments_lexer": "ipython3",
   "version": "3.6.13"
  }
 },
 "nbformat": 4,
 "nbformat_minor": 5
}
