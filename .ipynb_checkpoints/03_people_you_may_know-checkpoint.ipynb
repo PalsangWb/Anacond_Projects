{
 "cells": [
  {
   "cell_type": "code",
   "execution_count": 20,
   "id": "c3218d64-c7c8-4a82-bf27-2cbbd49a4705",
   "metadata": {},
   "outputs": [
    {
     "name": "stdout",
     "output_type": "stream",
     "text": [
      "[4, 8, 10, 11, 12, 9, 13]\n"
     ]
    }
   ],
   "source": [
    "import json\n",
    "def load_data(filename): \n",
    "    with open(filename, \"r\") as f:\n",
    "        return json.load(f)\n",
    "def find_people_you_may_know(user_id, data):\n",
    "    user_friends = {}\n",
    "    for user in data['users']:\n",
    "        user_friends[user['id']] = set(user['friends'])\n",
    "        \n",
    "    if user_id not in user_friends:\n",
    "        return []\n",
    "\n",
    "    direct_friends = user_friends[user_id]\n",
    "    suggestions = {}\n",
    "\n",
    "    for friend in direct_friends:\n",
    "        for mutual in user_friends[friend]:\n",
    "            if mutual != user_id and mutual not in direct_friends:\n",
    "                suggestions[mutual] = suggestions.get(mutual, 0) + 1\n",
    "    sorted_suggestions = sorted(suggestions.items(), key=lambda x:x[1], reverse=True)\n",
    "    return [user_id for user_id, _ in sorted_suggestions]\n",
    "    \n",
    "# Load the data\n",
    "data = load_data(\"massive_data.json\")\n",
    "user_id = 2\n",
    "recc = find_people_you_may_know(user_id, data)\n",
    "print(recc)"
   ]
  },
  {
   "cell_type": "code",
   "execution_count": null,
   "id": "8f0f83e8-2b4e-4df4-9e14-9c8ce3dff452",
   "metadata": {},
   "outputs": [],
   "source": []
  }
 ],
 "metadata": {
  "kernelspec": {
   "display_name": "Python 3",
   "language": "python",
   "name": "python3"
  },
  "language_info": {
   "codemirror_mode": {
    "name": "ipython",
    "version": 3
   },
   "file_extension": ".py",
   "mimetype": "text/x-python",
   "name": "python",
   "nbconvert_exporter": "python",
   "pygments_lexer": "ipython3",
   "version": "3.6.13"
  }
 },
 "nbformat": 4,
 "nbformat_minor": 5
}
